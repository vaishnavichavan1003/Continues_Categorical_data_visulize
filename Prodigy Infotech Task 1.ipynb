{
 "cells": [
  {
   "cell_type": "markdown",
   "id": "7bf3b94a",
   "metadata": {},
   "source": [
    "## Task 1 : Create a bar chart or histogram to visualize the distribution of a categorical or continuous variable, such as the distribution of ages or genders in a population."
   ]
  },
  {
   "cell_type": "markdown",
   "id": "1479b9a4",
   "metadata": {},
   "source": [
    "## Import Libraries"
   ]
  },
  {
   "cell_type": "code",
   "execution_count": 1,
   "id": "61c7c639",
   "metadata": {},
   "outputs": [],
   "source": [
    "import pandas as pd\n",
    "import numpy as np\n",
    "import seaborn as sns\n",
    "import matplotlib.pyplot as plt"
   ]
  },
  {
   "cell_type": "markdown",
   "id": "f2d954d0",
   "metadata": {},
   "source": [
    "## Import Dataset"
   ]
  },
  {
   "cell_type": "code",
   "execution_count": 2,
   "id": "5479a840",
   "metadata": {},
   "outputs": [],
   "source": [
    "df=pd.read_csv(\"C:/Users/Vaishnavi Chavan/Downloads/student.csv\")"
   ]
  },
  {
   "cell_type": "markdown",
   "id": "8a28167f",
   "metadata": {},
   "source": [
    "## Top 5 Records "
   ]
  },
  {
   "cell_type": "code",
   "execution_count": 3,
   "id": "13cd0e99",
   "metadata": {},
   "outputs": [
    {
     "data": {
      "text/html": [
       "<div>\n",
       "<style scoped>\n",
       "    .dataframe tbody tr th:only-of-type {\n",
       "        vertical-align: middle;\n",
       "    }\n",
       "\n",
       "    .dataframe tbody tr th {\n",
       "        vertical-align: top;\n",
       "    }\n",
       "\n",
       "    .dataframe thead th {\n",
       "        text-align: right;\n",
       "    }\n",
       "</style>\n",
       "<table border=\"1\" class=\"dataframe\">\n",
       "  <thead>\n",
       "    <tr style=\"text-align: right;\">\n",
       "      <th></th>\n",
       "      <th>Id</th>\n",
       "      <th>Student_Age</th>\n",
       "      <th>Sex</th>\n",
       "      <th>High_School_Type</th>\n",
       "      <th>Scholarship</th>\n",
       "      <th>Additional_Work</th>\n",
       "      <th>Sports_activity</th>\n",
       "      <th>Transportation</th>\n",
       "      <th>Weekly_Study_Hours</th>\n",
       "      <th>Attendance</th>\n",
       "      <th>Reading</th>\n",
       "      <th>Notes</th>\n",
       "      <th>Listening_in_Class</th>\n",
       "      <th>Project_work</th>\n",
       "      <th>Grade</th>\n",
       "    </tr>\n",
       "  </thead>\n",
       "  <tbody>\n",
       "    <tr>\n",
       "      <th>0</th>\n",
       "      <td>5001</td>\n",
       "      <td>21</td>\n",
       "      <td>Male</td>\n",
       "      <td>Other</td>\n",
       "      <td>50%</td>\n",
       "      <td>Yes</td>\n",
       "      <td>No</td>\n",
       "      <td>Private</td>\n",
       "      <td>0</td>\n",
       "      <td>Always</td>\n",
       "      <td>Yes</td>\n",
       "      <td>Yes</td>\n",
       "      <td>No</td>\n",
       "      <td>No</td>\n",
       "      <td>AA</td>\n",
       "    </tr>\n",
       "    <tr>\n",
       "      <th>1</th>\n",
       "      <td>5002</td>\n",
       "      <td>20</td>\n",
       "      <td>Male</td>\n",
       "      <td>Other</td>\n",
       "      <td>50%</td>\n",
       "      <td>Yes</td>\n",
       "      <td>No</td>\n",
       "      <td>Private</td>\n",
       "      <td>0</td>\n",
       "      <td>Always</td>\n",
       "      <td>Yes</td>\n",
       "      <td>No</td>\n",
       "      <td>Yes</td>\n",
       "      <td>Yes</td>\n",
       "      <td>AA</td>\n",
       "    </tr>\n",
       "    <tr>\n",
       "      <th>2</th>\n",
       "      <td>5003</td>\n",
       "      <td>21</td>\n",
       "      <td>Male</td>\n",
       "      <td>State</td>\n",
       "      <td>50%</td>\n",
       "      <td>No</td>\n",
       "      <td>No</td>\n",
       "      <td>Private</td>\n",
       "      <td>2</td>\n",
       "      <td>Never</td>\n",
       "      <td>No</td>\n",
       "      <td>No</td>\n",
       "      <td>No</td>\n",
       "      <td>Yes</td>\n",
       "      <td>AA</td>\n",
       "    </tr>\n",
       "    <tr>\n",
       "      <th>3</th>\n",
       "      <td>5004</td>\n",
       "      <td>18</td>\n",
       "      <td>Female</td>\n",
       "      <td>Private</td>\n",
       "      <td>50%</td>\n",
       "      <td>Yes</td>\n",
       "      <td>No</td>\n",
       "      <td>Bus</td>\n",
       "      <td>2</td>\n",
       "      <td>Always</td>\n",
       "      <td>No</td>\n",
       "      <td>Yes</td>\n",
       "      <td>No</td>\n",
       "      <td>No</td>\n",
       "      <td>AA</td>\n",
       "    </tr>\n",
       "    <tr>\n",
       "      <th>4</th>\n",
       "      <td>5005</td>\n",
       "      <td>22</td>\n",
       "      <td>Male</td>\n",
       "      <td>Private</td>\n",
       "      <td>50%</td>\n",
       "      <td>No</td>\n",
       "      <td>No</td>\n",
       "      <td>Bus</td>\n",
       "      <td>12</td>\n",
       "      <td>Always</td>\n",
       "      <td>Yes</td>\n",
       "      <td>No</td>\n",
       "      <td>Yes</td>\n",
       "      <td>Yes</td>\n",
       "      <td>AA</td>\n",
       "    </tr>\n",
       "  </tbody>\n",
       "</table>\n",
       "</div>"
      ],
      "text/plain": [
       "     Id  Student_Age     Sex High_School_Type Scholarship Additional_Work  \\\n",
       "0  5001           21    Male            Other         50%             Yes   \n",
       "1  5002           20    Male            Other         50%             Yes   \n",
       "2  5003           21    Male            State         50%              No   \n",
       "3  5004           18  Female          Private         50%             Yes   \n",
       "4  5005           22    Male          Private         50%              No   \n",
       "\n",
       "  Sports_activity Transportation  Weekly_Study_Hours Attendance Reading Notes  \\\n",
       "0              No        Private                   0     Always     Yes   Yes   \n",
       "1              No        Private                   0     Always     Yes    No   \n",
       "2              No        Private                   2      Never      No    No   \n",
       "3              No            Bus                   2     Always      No   Yes   \n",
       "4              No            Bus                  12     Always     Yes    No   \n",
       "\n",
       "  Listening_in_Class Project_work Grade  \n",
       "0                 No           No    AA  \n",
       "1                Yes          Yes    AA  \n",
       "2                 No          Yes    AA  \n",
       "3                 No           No    AA  \n",
       "4                Yes          Yes    AA  "
      ]
     },
     "execution_count": 3,
     "metadata": {},
     "output_type": "execute_result"
    }
   ],
   "source": [
    "df.head()"
   ]
  },
  {
   "cell_type": "markdown",
   "id": "25d3e213",
   "metadata": {},
   "source": [
    "## Bottom 5 Records "
   ]
  },
  {
   "cell_type": "code",
   "execution_count": 4,
   "id": "84a5cef5",
   "metadata": {},
   "outputs": [
    {
     "data": {
      "text/html": [
       "<div>\n",
       "<style scoped>\n",
       "    .dataframe tbody tr th:only-of-type {\n",
       "        vertical-align: middle;\n",
       "    }\n",
       "\n",
       "    .dataframe tbody tr th {\n",
       "        vertical-align: top;\n",
       "    }\n",
       "\n",
       "    .dataframe thead th {\n",
       "        text-align: right;\n",
       "    }\n",
       "</style>\n",
       "<table border=\"1\" class=\"dataframe\">\n",
       "  <thead>\n",
       "    <tr style=\"text-align: right;\">\n",
       "      <th></th>\n",
       "      <th>Id</th>\n",
       "      <th>Student_Age</th>\n",
       "      <th>Sex</th>\n",
       "      <th>High_School_Type</th>\n",
       "      <th>Scholarship</th>\n",
       "      <th>Additional_Work</th>\n",
       "      <th>Sports_activity</th>\n",
       "      <th>Transportation</th>\n",
       "      <th>Weekly_Study_Hours</th>\n",
       "      <th>Attendance</th>\n",
       "      <th>Reading</th>\n",
       "      <th>Notes</th>\n",
       "      <th>Listening_in_Class</th>\n",
       "      <th>Project_work</th>\n",
       "      <th>Grade</th>\n",
       "    </tr>\n",
       "  </thead>\n",
       "  <tbody>\n",
       "    <tr>\n",
       "      <th>140</th>\n",
       "      <td>5141</td>\n",
       "      <td>22</td>\n",
       "      <td>Female</td>\n",
       "      <td>State</td>\n",
       "      <td>50%</td>\n",
       "      <td>Yes</td>\n",
       "      <td>Yes</td>\n",
       "      <td>Private</td>\n",
       "      <td>0</td>\n",
       "      <td>Always</td>\n",
       "      <td>No</td>\n",
       "      <td>Yes</td>\n",
       "      <td>No</td>\n",
       "      <td>Yes</td>\n",
       "      <td>CC</td>\n",
       "    </tr>\n",
       "    <tr>\n",
       "      <th>141</th>\n",
       "      <td>5142</td>\n",
       "      <td>18</td>\n",
       "      <td>Female</td>\n",
       "      <td>State</td>\n",
       "      <td>75%</td>\n",
       "      <td>No</td>\n",
       "      <td>No</td>\n",
       "      <td>Private</td>\n",
       "      <td>0</td>\n",
       "      <td>Never</td>\n",
       "      <td>No</td>\n",
       "      <td>Yes</td>\n",
       "      <td>Yes</td>\n",
       "      <td>No</td>\n",
       "      <td>CC</td>\n",
       "    </tr>\n",
       "    <tr>\n",
       "      <th>142</th>\n",
       "      <td>5143</td>\n",
       "      <td>18</td>\n",
       "      <td>Female</td>\n",
       "      <td>Private</td>\n",
       "      <td>75%</td>\n",
       "      <td>No</td>\n",
       "      <td>No</td>\n",
       "      <td>Private</td>\n",
       "      <td>0</td>\n",
       "      <td>Always</td>\n",
       "      <td>Yes</td>\n",
       "      <td>No</td>\n",
       "      <td>No</td>\n",
       "      <td>No</td>\n",
       "      <td>AA</td>\n",
       "    </tr>\n",
       "    <tr>\n",
       "      <th>143</th>\n",
       "      <td>5144</td>\n",
       "      <td>22</td>\n",
       "      <td>Female</td>\n",
       "      <td>State</td>\n",
       "      <td>75%</td>\n",
       "      <td>Yes</td>\n",
       "      <td>Yes</td>\n",
       "      <td>Bus</td>\n",
       "      <td>12</td>\n",
       "      <td>Sometimes</td>\n",
       "      <td>No</td>\n",
       "      <td>Yes</td>\n",
       "      <td>No</td>\n",
       "      <td>Yes</td>\n",
       "      <td>CB</td>\n",
       "    </tr>\n",
       "    <tr>\n",
       "      <th>144</th>\n",
       "      <td>5145</td>\n",
       "      <td>18</td>\n",
       "      <td>Female</td>\n",
       "      <td>Private</td>\n",
       "      <td>100%</td>\n",
       "      <td>No</td>\n",
       "      <td>No</td>\n",
       "      <td>Private</td>\n",
       "      <td>12</td>\n",
       "      <td>Always</td>\n",
       "      <td>Yes</td>\n",
       "      <td>No</td>\n",
       "      <td>Yes</td>\n",
       "      <td>No</td>\n",
       "      <td>BB</td>\n",
       "    </tr>\n",
       "  </tbody>\n",
       "</table>\n",
       "</div>"
      ],
      "text/plain": [
       "       Id  Student_Age     Sex High_School_Type Scholarship Additional_Work  \\\n",
       "140  5141           22  Female            State         50%             Yes   \n",
       "141  5142           18  Female            State         75%              No   \n",
       "142  5143           18  Female          Private         75%              No   \n",
       "143  5144           22  Female            State         75%             Yes   \n",
       "144  5145           18  Female          Private        100%              No   \n",
       "\n",
       "    Sports_activity Transportation  Weekly_Study_Hours Attendance Reading  \\\n",
       "140             Yes        Private                   0     Always      No   \n",
       "141              No        Private                   0      Never      No   \n",
       "142              No        Private                   0     Always     Yes   \n",
       "143             Yes            Bus                  12  Sometimes      No   \n",
       "144              No        Private                  12     Always     Yes   \n",
       "\n",
       "    Notes Listening_in_Class Project_work Grade  \n",
       "140   Yes                 No          Yes    CC  \n",
       "141   Yes                Yes           No    CC  \n",
       "142    No                 No           No    AA  \n",
       "143   Yes                 No          Yes    CB  \n",
       "144    No                Yes           No    BB  "
      ]
     },
     "execution_count": 4,
     "metadata": {},
     "output_type": "execute_result"
    }
   ],
   "source": [
    "df.tail()"
   ]
  },
  {
   "cell_type": "markdown",
   "id": "003b6ff6",
   "metadata": {},
   "source": [
    "## Information of Dataset "
   ]
  },
  {
   "cell_type": "code",
   "execution_count": 5,
   "id": "fdd2415e",
   "metadata": {},
   "outputs": [
    {
     "name": "stdout",
     "output_type": "stream",
     "text": [
      "<class 'pandas.core.frame.DataFrame'>\n",
      "RangeIndex: 145 entries, 0 to 144\n",
      "Data columns (total 15 columns):\n",
      " #   Column              Non-Null Count  Dtype \n",
      "---  ------              --------------  ----- \n",
      " 0   Id                  145 non-null    int64 \n",
      " 1   Student_Age         145 non-null    int64 \n",
      " 2   Sex                 145 non-null    object\n",
      " 3   High_School_Type    145 non-null    object\n",
      " 4   Scholarship         144 non-null    object\n",
      " 5   Additional_Work     145 non-null    object\n",
      " 6   Sports_activity     145 non-null    object\n",
      " 7   Transportation      145 non-null    object\n",
      " 8   Weekly_Study_Hours  145 non-null    int64 \n",
      " 9   Attendance          145 non-null    object\n",
      " 10  Reading             145 non-null    object\n",
      " 11  Notes               145 non-null    object\n",
      " 12  Listening_in_Class  145 non-null    object\n",
      " 13  Project_work        145 non-null    object\n",
      " 14  Grade               145 non-null    object\n",
      "dtypes: int64(3), object(12)\n",
      "memory usage: 17.1+ KB\n"
     ]
    }
   ],
   "source": [
    "df.info()"
   ]
  },
  {
   "cell_type": "markdown",
   "id": "788a971f",
   "metadata": {},
   "source": [
    "## Statistical Summary "
   ]
  },
  {
   "cell_type": "code",
   "execution_count": 6,
   "id": "2cf6e4d1",
   "metadata": {},
   "outputs": [
    {
     "data": {
      "text/html": [
       "<div>\n",
       "<style scoped>\n",
       "    .dataframe tbody tr th:only-of-type {\n",
       "        vertical-align: middle;\n",
       "    }\n",
       "\n",
       "    .dataframe tbody tr th {\n",
       "        vertical-align: top;\n",
       "    }\n",
       "\n",
       "    .dataframe thead th {\n",
       "        text-align: right;\n",
       "    }\n",
       "</style>\n",
       "<table border=\"1\" class=\"dataframe\">\n",
       "  <thead>\n",
       "    <tr style=\"text-align: right;\">\n",
       "      <th></th>\n",
       "      <th>count</th>\n",
       "      <th>mean</th>\n",
       "      <th>std</th>\n",
       "      <th>min</th>\n",
       "      <th>25%</th>\n",
       "      <th>50%</th>\n",
       "      <th>75%</th>\n",
       "      <th>max</th>\n",
       "    </tr>\n",
       "  </thead>\n",
       "  <tbody>\n",
       "    <tr>\n",
       "      <th>Id</th>\n",
       "      <td>145.0</td>\n",
       "      <td>5073.000000</td>\n",
       "      <td>42.001984</td>\n",
       "      <td>5001.0</td>\n",
       "      <td>5037.0</td>\n",
       "      <td>5073.0</td>\n",
       "      <td>5109.0</td>\n",
       "      <td>5145.0</td>\n",
       "    </tr>\n",
       "    <tr>\n",
       "      <th>Student_Age</th>\n",
       "      <td>145.0</td>\n",
       "      <td>19.682759</td>\n",
       "      <td>1.992010</td>\n",
       "      <td>18.0</td>\n",
       "      <td>18.0</td>\n",
       "      <td>19.0</td>\n",
       "      <td>21.0</td>\n",
       "      <td>26.0</td>\n",
       "    </tr>\n",
       "    <tr>\n",
       "      <th>Weekly_Study_Hours</th>\n",
       "      <td>145.0</td>\n",
       "      <td>2.331034</td>\n",
       "      <td>4.249273</td>\n",
       "      <td>0.0</td>\n",
       "      <td>0.0</td>\n",
       "      <td>0.0</td>\n",
       "      <td>2.0</td>\n",
       "      <td>12.0</td>\n",
       "    </tr>\n",
       "  </tbody>\n",
       "</table>\n",
       "</div>"
      ],
      "text/plain": [
       "                    count         mean        std     min     25%     50%  \\\n",
       "Id                  145.0  5073.000000  42.001984  5001.0  5037.0  5073.0   \n",
       "Student_Age         145.0    19.682759   1.992010    18.0    18.0    19.0   \n",
       "Weekly_Study_Hours  145.0     2.331034   4.249273     0.0     0.0     0.0   \n",
       "\n",
       "                       75%     max  \n",
       "Id                  5109.0  5145.0  \n",
       "Student_Age           21.0    26.0  \n",
       "Weekly_Study_Hours     2.0    12.0  "
      ]
     },
     "execution_count": 6,
     "metadata": {},
     "output_type": "execute_result"
    }
   ],
   "source": [
    "df.describe().T"
   ]
  },
  {
   "cell_type": "code",
   "execution_count": 7,
   "id": "b36cf2c0",
   "metadata": {},
   "outputs": [],
   "source": [
    "# shallow Copy\n",
    "df1=df.copy()"
   ]
  },
  {
   "cell_type": "code",
   "execution_count": 8,
   "id": "64fa9bfe",
   "metadata": {},
   "outputs": [
    {
     "data": {
      "text/plain": [
       "Id                     int64\n",
       "Student_Age            int64\n",
       "Sex                   object\n",
       "High_School_Type      object\n",
       "Scholarship           object\n",
       "Additional_Work       object\n",
       "Sports_activity       object\n",
       "Transportation        object\n",
       "Weekly_Study_Hours     int64\n",
       "Attendance            object\n",
       "Reading               object\n",
       "Notes                 object\n",
       "Listening_in_Class    object\n",
       "Project_work          object\n",
       "Grade                 object\n",
       "dtype: object"
      ]
     },
     "execution_count": 8,
     "metadata": {},
     "output_type": "execute_result"
    }
   ],
   "source": [
    "# check Datatypes\n",
    "df1.dtypes"
   ]
  },
  {
   "cell_type": "code",
   "execution_count": 9,
   "id": "99e20840",
   "metadata": {},
   "outputs": [
    {
     "data": {
      "text/plain": [
       "Index(['Id', 'Student_Age', 'Sex', 'High_School_Type', 'Scholarship',\n",
       "       'Additional_Work', 'Sports_activity', 'Transportation',\n",
       "       'Weekly_Study_Hours', 'Attendance', 'Reading', 'Notes',\n",
       "       'Listening_in_Class', 'Project_work', 'Grade'],\n",
       "      dtype='object')"
      ]
     },
     "execution_count": 9,
     "metadata": {},
     "output_type": "execute_result"
    }
   ],
   "source": [
    "# Columns name check\n",
    "df1.columns"
   ]
  },
  {
   "cell_type": "code",
   "execution_count": 10,
   "id": "89902fc9",
   "metadata": {},
   "outputs": [
    {
     "data": {
      "text/html": [
       "<div>\n",
       "<style scoped>\n",
       "    .dataframe tbody tr th:only-of-type {\n",
       "        vertical-align: middle;\n",
       "    }\n",
       "\n",
       "    .dataframe tbody tr th {\n",
       "        vertical-align: top;\n",
       "    }\n",
       "\n",
       "    .dataframe thead th {\n",
       "        text-align: right;\n",
       "    }\n",
       "</style>\n",
       "<table border=\"1\" class=\"dataframe\">\n",
       "  <thead>\n",
       "    <tr style=\"text-align: right;\">\n",
       "      <th></th>\n",
       "      <th>Id</th>\n",
       "      <th>Student_Age</th>\n",
       "      <th>Sex</th>\n",
       "      <th>High_School_Type</th>\n",
       "      <th>Scholarship</th>\n",
       "      <th>Additional_Work</th>\n",
       "      <th>Sports_activity</th>\n",
       "      <th>Transportation</th>\n",
       "      <th>Weekly_Study_Hours</th>\n",
       "      <th>Attendance</th>\n",
       "      <th>Reading</th>\n",
       "      <th>Notes</th>\n",
       "      <th>Listening_in_Class</th>\n",
       "      <th>Project_work</th>\n",
       "      <th>Grade</th>\n",
       "    </tr>\n",
       "  </thead>\n",
       "  <tbody>\n",
       "    <tr>\n",
       "      <th>0</th>\n",
       "      <td>5001</td>\n",
       "      <td>21</td>\n",
       "      <td>Male</td>\n",
       "      <td>Other</td>\n",
       "      <td>50%</td>\n",
       "      <td>Yes</td>\n",
       "      <td>No</td>\n",
       "      <td>Private</td>\n",
       "      <td>0</td>\n",
       "      <td>Always</td>\n",
       "      <td>Yes</td>\n",
       "      <td>Yes</td>\n",
       "      <td>No</td>\n",
       "      <td>No</td>\n",
       "      <td>AA</td>\n",
       "    </tr>\n",
       "  </tbody>\n",
       "</table>\n",
       "</div>"
      ],
      "text/plain": [
       "     Id  Student_Age   Sex High_School_Type Scholarship Additional_Work  \\\n",
       "0  5001           21  Male            Other         50%             Yes   \n",
       "\n",
       "  Sports_activity Transportation  Weekly_Study_Hours Attendance Reading Notes  \\\n",
       "0              No        Private                   0     Always     Yes   Yes   \n",
       "\n",
       "  Listening_in_Class Project_work Grade  \n",
       "0                 No           No    AA  "
      ]
     },
     "execution_count": 10,
     "metadata": {},
     "output_type": "execute_result"
    }
   ],
   "source": [
    "# only one record Show\n",
    "df1.head(1)"
   ]
  },
  {
   "cell_type": "markdown",
   "id": "3a3b089f",
   "metadata": {},
   "source": [
    "## Rename column"
   ]
  },
  {
   "cell_type": "code",
   "execution_count": 11,
   "id": "0fa650ee",
   "metadata": {},
   "outputs": [],
   "source": [
    "df1 = df1.rename(columns={'Sex': 'Gender'})"
   ]
  },
  {
   "cell_type": "code",
   "execution_count": 12,
   "id": "38720e1d",
   "metadata": {},
   "outputs": [
    {
     "data": {
      "text/plain": [
       "Index(['Id', 'Student_Age', 'Gender', 'High_School_Type', 'Scholarship',\n",
       "       'Additional_Work', 'Sports_activity', 'Transportation',\n",
       "       'Weekly_Study_Hours', 'Attendance', 'Reading', 'Notes',\n",
       "       'Listening_in_Class', 'Project_work', 'Grade'],\n",
       "      dtype='object')"
      ]
     },
     "execution_count": 12,
     "metadata": {},
     "output_type": "execute_result"
    }
   ],
   "source": [
    "df1.columns"
   ]
  },
  {
   "cell_type": "code",
   "execution_count": 13,
   "id": "b3e5711c",
   "metadata": {},
   "outputs": [
    {
     "data": {
      "text/plain": [
       "(145, 15)"
      ]
     },
     "execution_count": 13,
     "metadata": {},
     "output_type": "execute_result"
    }
   ],
   "source": [
    "# Shape of Dataset\n",
    "df1.shape"
   ]
  },
  {
   "cell_type": "code",
   "execution_count": 14,
   "id": "a18fb370",
   "metadata": {},
   "outputs": [
    {
     "data": {
      "text/plain": [
       "2175"
      ]
     },
     "execution_count": 14,
     "metadata": {},
     "output_type": "execute_result"
    }
   ],
   "source": [
    "# Size of  Dataset\n",
    "df1.size"
   ]
  },
  {
   "cell_type": "code",
   "execution_count": 15,
   "id": "154efe29",
   "metadata": {},
   "outputs": [
    {
     "data": {
      "text/plain": [
       "Id                    0\n",
       "Student_Age           0\n",
       "Gender                0\n",
       "High_School_Type      0\n",
       "Scholarship           1\n",
       "Additional_Work       0\n",
       "Sports_activity       0\n",
       "Transportation        0\n",
       "Weekly_Study_Hours    0\n",
       "Attendance            0\n",
       "Reading               0\n",
       "Notes                 0\n",
       "Listening_in_Class    0\n",
       "Project_work          0\n",
       "Grade                 0\n",
       "dtype: int64"
      ]
     },
     "execution_count": 15,
     "metadata": {},
     "output_type": "execute_result"
    }
   ],
   "source": [
    "# Check Null Values\n",
    "df1.isnull().sum()"
   ]
  },
  {
   "cell_type": "markdown",
   "id": "791b9569",
   "metadata": {},
   "source": [
    "## Drop Null Values "
   ]
  },
  {
   "cell_type": "code",
   "execution_count": 16,
   "id": "e608fa5d",
   "metadata": {},
   "outputs": [],
   "source": [
    "df1.dropna(inplace=True)"
   ]
  },
  {
   "cell_type": "code",
   "execution_count": 17,
   "id": "a624bc2a",
   "metadata": {},
   "outputs": [
    {
     "data": {
      "text/plain": [
       "0"
      ]
     },
     "execution_count": 17,
     "metadata": {},
     "output_type": "execute_result"
    }
   ],
   "source": [
    "df1.isnull().sum().sum()"
   ]
  },
  {
   "cell_type": "markdown",
   "id": "aa23e926",
   "metadata": {},
   "source": [
    "## Continues Data Visualize"
   ]
  },
  {
   "cell_type": "code",
   "execution_count": 18,
   "id": "cfaf5b0d",
   "metadata": {},
   "outputs": [
    {
     "data": {
      "image/png": "[encoded data removed]",
      "text/plain": [
       "<Figure size 800x600 with 1 Axes>"
      ]
     },
     "metadata": {},
     "output_type": "display_data"
    }
   ],
   "source": [
    "plt.figure(figsize = (8,6))\n",
    "plt.hist(df1[\"Student_Age\"],bins = 17)\n",
    "plt.title(\"Histogram of Continues Data\")\n",
    "plt.xlabel(\"Age\")\n",
    "plt.ylabel(\"Frequency\")\n",
    "plt.show()"
   ]
  },
  {
   "cell_type": "markdown",
   "id": "f324ade1",
   "metadata": {},
   "source": [
    "## Categorical Data Visulize"
   ]
  },
  {
   "cell_type": "code",
   "execution_count": 19,
   "id": "972f63e5",
   "metadata": {},
   "outputs": [
    {
     "data": {
      "image/png": "[encoded data removed]",
      "text/plain": [
       "<Figure size 640x480 with 1 Axes>"
      ]
     },
     "metadata": {},
     "output_type": "display_data"
    }
   ],
   "source": [
    "plt.hist(df1[\"Gender\"],bins = 3)\n",
    "plt.title(\"Histogram of Categorical Data\")\n",
    "plt.xlabel(\"Age\")\n",
    "plt.ylabel(\"Frequency\")\n",
    "plt.show()"
   ]
  },
  {
   "cell_type": "code",
   "execution_count": null,
   "id": "9f8e45de",
   "metadata": {},
   "outputs": [],
   "source": []
  }
 ],
 "metadata": {
  "kernelspec": {
   "display_name": "Python 3 (ipykernel)",
   "language": "python",
   "name": "python3"
  },
  "language_info": {
   "codemirror_mode": {
    "name": "ipython",
    "version": 3
   },
   "file_extension": ".py",
   "mimetype": "text/x-python",
   "name": "python",
   "nbconvert_exporter": "python",
   "pygments_lexer": "ipython3",
   "version": "3.11.5"
  }
 },
 "nbformat": 4,
 "nbformat_minor": 5
}
